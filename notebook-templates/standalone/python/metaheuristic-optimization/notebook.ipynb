{
 "cells": [
  {
   "cell_type": "markdown",
   "metadata": {},
   "source": [
    "Copyright 2018 Pepper Johnson  \n",
    "Copyright 2019 Dataiku  \n",
    "\n",
    "- Notebook available on [github](https://github.com/pepper-johnson/sack_lunch/blob/master/Notebooks/GA/Basic%20GA%20Example%20-%20DEAP.ipynb)\n",
    "- Explanations available on a [medium blog](https://medium.com/@pasdan/basic-ga-via-python-deap-603736eb6b87)\n",
    "\n",
    "## Basic Genetic Algorithms Example using DEAP\n",
    "\n",
    "Based on Chapter 6 from “Genetic Algorithms and Investment Strategies” by Richard Bauer Jr\n"
   ]
  },
  {
   "cell_type": "code",
   "execution_count": 1,
   "metadata": {},
   "outputs": [],
   "source": [
    "import random\n",
    "import numpy as np\n",
    "\n",
    "from deap import base, creator, tools"
   ]
  },
  {
   "cell_type": "code",
   "execution_count": 2,
   "metadata": {},
   "outputs": [],
   "source": [
    "def EOQ(individual):\n",
    "    \n",
    "    def to_int(b):\n",
    "        return int(b, 2)\n",
    "    \n",
    "    O = 350000\n",
    "    T = 600000\n",
    "    \n",
    "    i = to_int(\n",
    "        ''.join((str(xi) for xi in individual)))\n",
    "    \n",
    "    if i == 0:\n",
    "        return (-1)*O\n",
    "    \n",
    "    f = round((20000 / i) * 6000, 0)\n",
    "    v = (i * 6) / 2\n",
    "    \n",
    "    return T - ( (f + v) + (O) ),"
   ]
  },
  {
   "cell_type": "code",
   "execution_count": 3,
   "metadata": {},
   "outputs": [],
   "source": [
    "np.random.seed(1237)"
   ]
  },
  {
   "cell_type": "code",
   "execution_count": 4,
   "metadata": {},
   "outputs": [],
   "source": [
    "creator.create(\"FitnessMax\", base.Fitness, weights=(1.0,))\n",
    "creator.create(\"Individual\", list, fitness=creator.FitnessMax)"
   ]
  },
  {
   "cell_type": "code",
   "execution_count": 5,
   "metadata": {},
   "outputs": [],
   "source": [
    "tbx = base.Toolbox()"
   ]
  },
  {
   "cell_type": "code",
   "execution_count": 6,
   "metadata": {},
   "outputs": [],
   "source": [
    "INDIVIDUAL_SIZE = 20\n",
    "\n",
    "tbx.register(\"attr_int\", random.randint, 0, 1)\n",
    "tbx.register(\"individual\", \n",
    "             tools.initRepeat, \n",
    "             creator.Individual,\n",
    "             tbx.attr_int, \n",
    "             n=INDIVIDUAL_SIZE)\n",
    "\n",
    "tbx.register(\"population\", tools.initRepeat, list, tbx.individual)"
   ]
  },
  {
   "cell_type": "code",
   "execution_count": 7,
   "metadata": {},
   "outputs": [],
   "source": [
    "tbx.register(\"evaluate\", EOQ)\n",
    "\n",
    "tbx.register(\"mate\", tools.cxOnePoint)\n",
    "tbx.register(\"mutate\", tools.mutFlipBit, indpb=0.01)\n",
    "tbx.register(\"select\", tools.selTournament, tournsize=5)"
   ]
  },
  {
   "cell_type": "code",
   "execution_count": 8,
   "metadata": {},
   "outputs": [],
   "source": [
    "def set_fitness(population):\n",
    "    fitnesses = [ \n",
    "        (individual, tbx.evaluate(individual)) \n",
    "        for individual in population \n",
    "    ]\n",
    "\n",
    "    for individual, fitness in fitnesses:\n",
    "        individual.fitness.values = fitness\n",
    "        \n",
    "def pull_stats(population, iteration=1):\n",
    "    fitnesses = [ individual.fitness.values[0] for individual in population ]\n",
    "    return {\n",
    "        'i': iteration,\n",
    "        'mu': np.mean(fitnesses),\n",
    "        'std': np.std(fitnesses),\n",
    "        'max': np.max(fitnesses),\n",
    "        'min': np.min(fitnesses)\n",
    "    }"
   ]
  },
  {
   "cell_type": "code",
   "execution_count": 9,
   "metadata": {},
   "outputs": [],
   "source": [
    "## create random population,\n",
    "population = tbx.population(n=50)\n",
    "\n",
    "## set fitness,\n",
    "set_fitness(population)"
   ]
  },
  {
   "cell_type": "code",
   "execution_count": 10,
   "metadata": {},
   "outputs": [
    {
     "data": {
      "text/plain": [
       "[[1, 1, 0, 1, 1, 1, 1, 1, 1, 1, 0, 0, 1, 0, 1, 0, 1, 1, 0, 1],\n",
       " [1, 1, 1, 0, 1, 0, 0, 0, 1, 1, 0, 1, 1, 0, 1, 1, 0, 1, 1, 0],\n",
       " [0, 1, 1, 0, 1, 0, 0, 1, 1, 1, 0, 1, 1, 1, 1, 1, 0, 0, 0, 0],\n",
       " [1, 1, 0, 0, 1, 1, 0, 0, 1, 0, 0, 0, 1, 0, 1, 1, 1, 1, 1, 0],\n",
       " [0, 0, 0, 0, 0, 1, 0, 0, 0, 0, 1, 0, 1, 1, 1, 0, 1, 0, 0, 0]]"
      ]
     },
     "execution_count": 10,
     "metadata": {},
     "output_type": "execute_result"
    }
   ],
   "source": [
    "## quick look at the initial population,\n",
    "population[:5]"
   ]
  },
  {
   "cell_type": "code",
   "execution_count": 11,
   "metadata": {},
   "outputs": [],
   "source": [
    "## globals,\n",
    "stats = []"
   ]
  },
  {
   "cell_type": "code",
   "execution_count": 12,
   "metadata": {},
   "outputs": [],
   "source": [
    "iteration = 1\n",
    "while iteration < 51:\n",
    "    \n",
    "    current_population = list(map(tbx.clone, population))\n",
    "    \n",
    "    offspring = []\n",
    "    for _ in range(10):\n",
    "        i1, i2 = np.random.choice(range(len(population)), size=2, replace=False)\n",
    "\n",
    "        offspring1, offspring2 = \\\n",
    "            tbx.mate(population[i1], population[i2])\n",
    "\n",
    "        offspring.append(tbx.mutate(offspring1)[0])\n",
    "        offspring.append(tbx.mutate(offspring2)[0])  \n",
    "    \n",
    "    for child in offspring:\n",
    "        current_population.append(child)\n",
    "\n",
    "    ## reset fitness,\n",
    "    set_fitness(current_population)\n",
    "    \n",
    "    population[:] = tbx.select(current_population, len(population))\n",
    "    \n",
    "    ## set fitness on individuals in the population,\n",
    "    stats.append(\n",
    "        pull_stats(population, iteration))\n",
    "    \n",
    "    iteration += 1"
   ]
  },
  {
   "cell_type": "code",
   "execution_count": 13,
   "metadata": {},
   "outputs": [],
   "source": [
    "%matplotlib inline"
   ]
  },
  {
   "cell_type": "code",
   "execution_count": 14,
   "metadata": {},
   "outputs": [],
   "source": [
    "import dataiku\n",
    "from dataiku import insights\n",
    "\n",
    "import seaborn as sns\n",
    "import matplotlib.pyplot as plt\n",
    "\n",
    "sns.set()"
   ]
  },
  {
   "cell_type": "code",
   "execution_count": 15,
   "metadata": {},
   "outputs": [
    {
     "data": {
      "image/png": "[encoded data removed]",
      "text/plain": [
       "<Figure size 864x576 with 1 Axes>"
      ]
     },
     "metadata": {},
     "output_type": "display_data"
    }
   ],
   "source": [
    "f, ax = plt.subplots(figsize=(12, 8))\n",
    "\n",
    "_ = plt.scatter(range(1, len(stats)+1), [ s['mu'] for s in stats ], marker='.')\n",
    "\n",
    "_ = plt.title('Average fitness per iteration')\n",
    "_ = plt.xlabel('Iterations')\n",
    "_ = plt.ylabel('Fitness')\n",
    "\n",
    "plt.show()\n",
    "\n",
    "insights.save_figure(\"Average-fitness-per-iteration\",f)"
   ]
  },
  {
   "cell_type": "code",
   "execution_count": 16,
   "metadata": {},
   "outputs": [
    {
     "data": {
      "text/plain": [
       "[(0, 6143),\n",
       " (1, 6143),\n",
       " (2, 6143),\n",
       " (3, 6143),\n",
       " (4, 6143),\n",
       " (5, 6143),\n",
       " (6, 6143),\n",
       " (7, 6143),\n",
       " (8, 6143),\n",
       " (9, 6143)]"
      ]
     },
     "execution_count": 16,
     "metadata": {},
     "output_type": "execute_result"
    }
   ],
   "source": [
    "def to_int(b):\n",
    "    return int(b, 2)\n",
    "    \n",
    "sorted([ (i, to_int(''.join((str(xi) for xi in individual)))) for i, individual in enumerate(population) ][:10], key=lambda x: x[1], reverse=False)"
   ]
  }
 ],
 "metadata": {
  "creator": "admin",
  "customFields": {},
  "kernelspec": {
   "display_name": "Python (env plugin_metaheuristic-optimization_managed)",
   "language": "python",
   "name": "py-dku-venv-plugin_metaheuristic-optimization_managed"
  },
  "language_info": {
   "codemirror_mode": {
    "name": "ipython",
    "version": 3
   },
   "file_extension": ".py",
   "mimetype": "text/x-python",
   "name": "python",
   "nbconvert_exporter": "python",
   "pygments_lexer": "ipython3",
   "version": "3.7.5"
  },
  "tags": []
 },
 "nbformat": 4,
 "nbformat_minor": 2
}
